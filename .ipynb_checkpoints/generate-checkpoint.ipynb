{
 "cells": [
  {
   "cell_type": "code",
   "execution_count": 1,
   "metadata": {},
   "outputs": [],
   "source": [
    "from PIL import Image \n",
    "from IPython.display import display \n",
    "import random\n",
    "import json"
   ]
  },
  {
   "cell_type": "code",
   "execution_count": 2,
   "metadata": {},
   "outputs": [],
   "source": [
    "# Each image is made up a series of traits\n",
    "# The weightings for each trait drive the rarity and add up to 100%\n",
    "\n",
    "background = [\"Blue\", \"Orange\", \"Purple\", \"Red\", \"Yellow\"] \n",
    "background_weights = [30, 40, 15, 5, 10]\n",
    "\n",
    "circle = [\"Blue\", \"Green\", \"Orange\", \"Red\", \"Yellow\"] \n",
    "circle_weights = [30, 40, 15, 5, 10]\n",
    "\n",
    "square = [\"Blue\", \"Green\", \"Orange\", \"Red\", \"Yellow\"] \n",
    "square_weights = [30, 40, 15, 5, 10]\n",
    "\n",
    "# Dictionary variable for each trait. \n",
    "# Eech trait corresponds to its file name\n",
    "\n",
    "background_files = {\n",
    "    \"Blue\": \"blue\",\n",
    "    \"Orange\": \"orange\",\n",
    "    \"Purple\": \"purple\",\n",
    "    \"Red\": \"red\",\n",
    "    \"Yellow\": \"yellow\",\n",
    "}\n",
    "\n",
    "circle_files = {\n",
    "    \"Blue\": \"blue-circle\",\n",
    "    \"Green\": \"green-circle\",\n",
    "    \"Orange\": \"orange-circle\",\n",
    "    \"Red\": \"red-circle\",\n",
    "    \"Yellow\": \"yellow-circle\"   \n",
    "}\n",
    "\n",
    "square_files = {\n",
    "    \"Blue\": \"blue-square\",\n",
    "    \"Green\": \"green-square\",\n",
    "    \"Orange\": \"orange-square\",\n",
    "    \"Red\": \"red-square\",\n",
    "    \"Yellow\": \"yellow-square\"  \n",
    "          \n",
    "}"
   ]
  },
  {
   "cell_type": "code",
   "execution_count": 3,
   "metadata": {},
   "outputs": [],
   "source": [
    "## Generate Traits\n",
    "\n",
    "TOTAL_IMAGES = 30 # Number of random unique images we want to generate\n",
    "\n",
    "all_images = [] \n",
    "\n",
    "# A recursive function to generate unique image combinations\n",
    "def create_new_image():\n",
    "    \n",
    "    new_image = {} #\n",
    "\n",
    "    # For each trait category, select a random trait based on the weightings \n",
    "    new_image [\"Background\"] = random.choices(background, background_weights)[0]\n",
    "    new_image [\"Circle\"] = random.choices(circle, circle_weights)[0]\n",
    "    new_image [\"Square\"] = random.choices(square, square_weights)[0]\n",
    "    \n",
    "    if new_image in all_images:\n",
    "        return create_new_image()\n",
    "    else:\n",
    "        return new_image\n",
    "    \n",
    "    \n",
    "# Generate the unique combinations based on trait weightings\n",
    "for i in range(TOTAL_IMAGES): \n",
    "    \n",
    "    new_trait_image = create_new_image()\n",
    "    \n",
    "    all_images.append(new_trait_image)\n",
    "    \n"
   ]
  },
  {
   "cell_type": "code",
   "execution_count": 4,
   "metadata": {},
   "outputs": [
    {
     "name": "stdout",
     "output_type": "stream",
     "text": [
      "Are all images unique? True\n"
     ]
    }
   ],
   "source": [
    "# Returns true if all images are unique\n",
    "def all_images_unique(all_images):\n",
    "    seen = list()\n",
    "    return not any(i in seen or seen.append(i) for i in all_images)\n",
    "\n",
    "print(\"Are all images unique?\", all_images_unique(all_images))"
   ]
  },
  {
   "cell_type": "code",
   "execution_count": 5,
   "metadata": {},
   "outputs": [],
   "source": [
    "# Add token Id to each image\n",
    "i = 0\n",
    "for item in all_images:\n",
    "    item[\"tokenId\"] = i\n",
    "    i = i + 1"
   ]
  },
  {
   "cell_type": "code",
   "execution_count": 6,
   "metadata": {
    "tags": []
   },
   "outputs": [
    {
     "name": "stdout",
     "output_type": "stream",
     "text": [
      "[{'Background': 'Blue', 'Circle': 'Green', 'Square': 'Red', 'tokenId': 0}, {'Background': 'Blue', 'Circle': 'Red', 'Square': 'Blue', 'tokenId': 1}, {'Background': 'Orange', 'Circle': 'Green', 'Square': 'Blue', 'tokenId': 2}, {'Background': 'Orange', 'Circle': 'Blue', 'Square': 'Red', 'tokenId': 3}, {'Background': 'Orange', 'Circle': 'Blue', 'Square': 'Yellow', 'tokenId': 4}, {'Background': 'Orange', 'Circle': 'Blue', 'Square': 'Green', 'tokenId': 5}, {'Background': 'Orange', 'Circle': 'Blue', 'Square': 'Blue', 'tokenId': 6}, {'Background': 'Red', 'Circle': 'Green', 'Square': 'Orange', 'tokenId': 7}, {'Background': 'Blue', 'Circle': 'Blue', 'Square': 'Blue', 'tokenId': 8}, {'Background': 'Orange', 'Circle': 'Red', 'Square': 'Blue', 'tokenId': 9}, {'Background': 'Yellow', 'Circle': 'Blue', 'Square': 'Green', 'tokenId': 10}, {'Background': 'Orange', 'Circle': 'Orange', 'Square': 'Orange', 'tokenId': 11}, {'Background': 'Blue', 'Circle': 'Blue', 'Square': 'Green', 'tokenId': 12}, {'Background': 'Purple', 'Circle': 'Blue', 'Square': 'Orange', 'tokenId': 13}, {'Background': 'Orange', 'Circle': 'Yellow', 'Square': 'Blue', 'tokenId': 14}, {'Background': 'Orange', 'Circle': 'Red', 'Square': 'Yellow', 'tokenId': 15}, {'Background': 'Orange', 'Circle': 'Green', 'Square': 'Green', 'tokenId': 16}, {'Background': 'Blue', 'Circle': 'Orange', 'Square': 'Green', 'tokenId': 17}, {'Background': 'Orange', 'Circle': 'Orange', 'Square': 'Blue', 'tokenId': 18}, {'Background': 'Purple', 'Circle': 'Green', 'Square': 'Blue', 'tokenId': 19}, {'Background': 'Blue', 'Circle': 'Blue', 'Square': 'Orange', 'tokenId': 20}, {'Background': 'Purple', 'Circle': 'Green', 'Square': 'Green', 'tokenId': 21}, {'Background': 'Purple', 'Circle': 'Blue', 'Square': 'Blue', 'tokenId': 22}, {'Background': 'Blue', 'Circle': 'Green', 'Square': 'Green', 'tokenId': 23}, {'Background': 'Purple', 'Circle': 'Green', 'Square': 'Orange', 'tokenId': 24}, {'Background': 'Purple', 'Circle': 'Orange', 'Square': 'Green', 'tokenId': 25}, {'Background': 'Yellow', 'Circle': 'Green', 'Square': 'Blue', 'tokenId': 26}, {'Background': 'Orange', 'Circle': 'Green', 'Square': 'Orange', 'tokenId': 27}, {'Background': 'Yellow', 'Circle': 'Green', 'Square': 'Green', 'tokenId': 28}, {'Background': 'Purple', 'Circle': 'Yellow', 'Square': 'Green', 'tokenId': 29}]\n"
     ]
    }
   ],
   "source": [
    "print(all_images)"
   ]
  },
  {
   "cell_type": "code",
   "execution_count": 7,
   "metadata": {},
   "outputs": [
    {
     "name": "stdout",
     "output_type": "stream",
     "text": [
      "{'Blue': 7, 'Orange': 12, 'Purple': 7, 'Red': 1, 'Yellow': 3}\n",
      "{'Blue': 10, 'Green': 11, 'Orange': 4, 'Red': 3, 'Yellow': 2}\n",
      "{'Blue': 10, 'Green': 10, 'Orange': 6, 'Red': 2, 'Yellow': 2}\n"
     ]
    }
   ],
   "source": [
    "# Get Trait Counts\n",
    "\n",
    "background_count = {}\n",
    "for item in background:\n",
    "    background_count[item] = 0\n",
    "    \n",
    "circle_count = {}\n",
    "for item in circle:\n",
    "    circle_count[item] = 0\n",
    "\n",
    "square_count = {}\n",
    "for item in square:\n",
    "    square_count[item] = 0\n",
    "\n",
    "for image in all_images:\n",
    "    background_count[image[\"Background\"]] += 1\n",
    "    circle_count[image[\"Circle\"]] += 1\n",
    "    square_count[image[\"Square\"]] += 1\n",
    "    \n",
    "print(background_count)\n",
    "print(circle_count)\n",
    "print(square_count)"
   ]
  },
  {
   "cell_type": "code",
   "execution_count": 8,
   "metadata": {},
   "outputs": [],
   "source": [
    "#### Generate Metadata for all Traits \n",
    "METADATA_FILE_NAME = './metadata/all-traits.json'; \n",
    "with open(METADATA_FILE_NAME, 'w') as outfile:\n",
    "    json.dump(all_images, outfile, indent=4)"
   ]
  },
  {
   "cell_type": "code",
   "execution_count": 9,
   "metadata": {},
   "outputs": [],
   "source": [
    "  \n",
    "    \n",
    "#### Generate Images    \n",
    "for item in all_images:\n",
    "\n",
    "    im1 = Image.open(f'./trait-layers/backgrounds/{background_files[item[\"Background\"]]}.jpg').convert('RGBA')\n",
    "    im2 = Image.open(f'./trait-layers/circles/{circle_files[item[\"Circle\"]]}.png').convert('RGBA')\n",
    "    im3 = Image.open(f'./trait-layers/squares/{square_files[item[\"Square\"]]}.png').convert('RGBA')\n",
    "\n",
    "    #Create each composite\n",
    "    com1 = Image.alpha_composite(im1, im2)\n",
    "    com2 = Image.alpha_composite(com1, im3)\n",
    "\n",
    "    #Convert to RGB\n",
    "    rgb_im = com2.convert('RGB')\n",
    "    file_name = str(item[\"tokenId\"]) + \".png\"\n",
    "    rgb_im.save(\"./images/\" + file_name)\n",
    "    \n",
    "    \n",
    "    "
   ]
  },
  {
   "cell_type": "code",
   "execution_count": 10,
   "metadata": {},
   "outputs": [],
   "source": [
    "#### Generate Metadata for each Image    \n",
    "\n",
    "f = open('./metadata/all-traits.json',) \n",
    "data = json.load(f)\n",
    "\n",
    "\n",
    "IMAGES_BASE_URI = \"ADD_IMAGES_BASE_URI_HERE\"\n",
    "PROJECT_NAME = \"ADD_PROJECT_NAME_HERE\"\n",
    "\n",
    "def getAttribute(key, value):\n",
    "    return {\n",
    "        \"trait_type\": key,\n",
    "        \"value\": value\n",
    "    }\n",
    "for i in data:\n",
    "    token_id = i['tokenId']\n",
    "    token = {\n",
    "        \"image\": IMAGES_BASE_URI + str(token_id) + '.png',\n",
    "        \"tokenId\": token_id,\n",
    "        \"name\": PROJECT_NAME + ' ' + str(token_id),\n",
    "        \"attributes\": []\n",
    "    }\n",
    "    token[\"attributes\"].append(getAttribute(\"Background\", i[\"Background\"]))\n",
    "    token[\"attributes\"].append(getAttribute(\"Circle\", i[\"Circle\"]))\n",
    "    token[\"attributes\"].append(getAttribute(\"Square\", i[\"Square\"]))\n",
    "\n",
    "    with open('./metadata/' + str(token_id), 'w') as outfile:\n",
    "        json.dump(token, outfile, indent=4)\n",
    "f.close()"
   ]
  },
  {
   "cell_type": "code",
   "execution_count": null,
   "metadata": {},
   "outputs": [],
   "source": []
  }
 ],
 "metadata": {
  "interpreter": {
   "hash": "3d65f8beab89bca824669a8319117cabe601d9aca9a71aad8efeb42336828120"
  },
  "kernelspec": {
   "display_name": "Python 3 (ipykernel)",
   "language": "python",
   "name": "python3"
  },
  "language_info": {
   "codemirror_mode": {
    "name": "ipython",
    "version": 3
   },
   "file_extension": ".py",
   "mimetype": "text/x-python",
   "name": "python",
   "nbconvert_exporter": "python",
   "pygments_lexer": "ipython3",
   "version": "3.8.8"
  }
 },
 "nbformat": 4,
 "nbformat_minor": 4
}
